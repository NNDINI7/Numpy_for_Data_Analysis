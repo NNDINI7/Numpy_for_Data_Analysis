{
 "cells": [
  {
   "cell_type": "markdown",
   "id": "38322132",
   "metadata": {},
   "source": [
    "Indexing"
   ]
  },
  {
   "cell_type": "code",
   "execution_count": 1,
   "id": "66180ff9",
   "metadata": {},
   "outputs": [
    {
     "name": "stdout",
     "output_type": "stream",
     "text": [
      "2\n"
     ]
    }
   ],
   "source": [
    "import numpy as np\n",
    "\n",
    "arr1 = np.array([1, 2, 3])\n",
    "print(arr1[1])"
   ]
  },
  {
   "cell_type": "code",
   "execution_count": 3,
   "id": "bdefe2f0",
   "metadata": {},
   "outputs": [
    {
     "name": "stdout",
     "output_type": "stream",
     "text": [
      "3\n",
      "2\n",
      "1\n"
     ]
    }
   ],
   "source": [
    "print(arr1[-1])\n",
    "print(arr1[-2])\n",
    "print(arr1[-3])"
   ]
  },
  {
   "cell_type": "code",
   "execution_count": 6,
   "id": "bbaefd8e",
   "metadata": {},
   "outputs": [
    {
     "name": "stdout",
     "output_type": "stream",
     "text": [
      "[[ 1  2  3  4  5]\n",
      " [ 6  7  8  9 10]]\n",
      "\n",
      "2\n"
     ]
    }
   ],
   "source": [
    "a1=np.array([[1,2,3,4,5],[6,7,8,9,10]])\n",
    "print(a1)\n",
    "print()\n",
    "print(a1.ndim)"
   ]
  },
  {
   "cell_type": "code",
   "execution_count": 8,
   "id": "1edd4b6a",
   "metadata": {},
   "outputs": [
    {
     "name": "stdout",
     "output_type": "stream",
     "text": [
      "10\n",
      "3\n"
     ]
    }
   ],
   "source": [
    "print(a1[1,4])#Accessing an element from 2-D array\n",
    "print(a1[0,2])"
   ]
  },
  {
   "cell_type": "code",
   "execution_count": 9,
   "id": "de3868e0",
   "metadata": {},
   "outputs": [
    {
     "name": "stdout",
     "output_type": "stream",
     "text": [
      "[[[ 1  2  3]\n",
      "  [ 4  5  6]]\n",
      "\n",
      " [[ 7  8  9]\n",
      "  [10 11 12]]]\n"
     ]
    }
   ],
   "source": [
    "a3 = np.array([[[1, 2, 3], [4, 5, 6]], [[7, 8, 9], [10, 11, 12]]])\n",
    "print(a3)"
   ]
  },
  {
   "cell_type": "code",
   "execution_count": 10,
   "id": "7d0fef13",
   "metadata": {},
   "outputs": [
    {
     "name": "stdout",
     "output_type": "stream",
     "text": [
      "3\n"
     ]
    }
   ],
   "source": [
    "print(a3.ndim)"
   ]
  },
  {
   "cell_type": "code",
   "execution_count": null,
   "id": "1186f986",
   "metadata": {},
   "outputs": [
    {
     "name": "stdout",
     "output_type": "stream",
     "text": [
      "6\n"
     ]
    }
   ],
   "source": [
    "print(a3[0,1,2]) #Accessing an element from 3-D array. Here, 0 is the index of 2-D array, 1 is the index of row and 2 is the index of column."
   ]
  },
  {
   "cell_type": "markdown",
   "id": "bff8694d",
   "metadata": {},
   "source": [
    "Slicing"
   ]
  },
  {
   "cell_type": "code",
   "execution_count": 13,
   "id": "1f90c514",
   "metadata": {},
   "outputs": [
    {
     "name": "stdout",
     "output_type": "stream",
     "text": [
      "[1 2 3 4 5 6 7 8]\n"
     ]
    }
   ],
   "source": [
    "x=np.array([1,2,3,4,5,6,7,8])\n",
    "#           0 1 2 3 4 5 6 7\n",
    "#          -8-7-6-5-4-3-2-1\n",
    "print(x)"
   ]
  },
  {
   "cell_type": "code",
   "execution_count": 14,
   "id": "d4d8e4ae",
   "metadata": {},
   "outputs": [
    {
     "name": "stdout",
     "output_type": "stream",
     "text": [
      "[2 3 4 5]\n"
     ]
    }
   ],
   "source": [
    "print(x[1:5]) #Slicing from index 1 to 4"
   ]
  },
  {
   "cell_type": "code",
   "execution_count": 15,
   "id": "73995c12",
   "metadata": {},
   "outputs": [
    {
     "name": "stdout",
     "output_type": "stream",
     "text": [
      "[array([1, 3, 5, 7])]\n"
     ]
    }
   ],
   "source": [
    "print([x[::2]]) #Slicing with step size of 2"
   ]
  },
  {
   "cell_type": "code",
   "execution_count": 16,
   "id": "04ed34f5",
   "metadata": {},
   "outputs": [
    {
     "name": "stdout",
     "output_type": "stream",
     "text": [
      "[8 7 6 5]\n"
     ]
    }
   ],
   "source": [
    "print(x[-1:-5:-1]) #Slicing in reverse order from index -1 to -4"
   ]
  },
  {
   "cell_type": "code",
   "execution_count": 17,
   "id": "403b3711",
   "metadata": {},
   "outputs": [
    {
     "name": "stdout",
     "output_type": "stream",
     "text": [
      "[2 3 4 5 6 7 8]\n"
     ]
    }
   ],
   "source": [
    "print(x[1:])"
   ]
  },
  {
   "cell_type": "code",
   "execution_count": 18,
   "id": "9d8999eb",
   "metadata": {},
   "outputs": [
    {
     "name": "stdout",
     "output_type": "stream",
     "text": [
      "[1 2 3 4 5]\n"
     ]
    }
   ],
   "source": [
    "print(x[:5])"
   ]
  },
  {
   "cell_type": "code",
   "execution_count": null,
   "id": "334a0a53",
   "metadata": {},
   "outputs": [
    {
     "name": "stdout",
     "output_type": "stream",
     "text": [
      "[2 4]\n"
     ]
    }
   ],
   "source": [
    "print(x[1:5:2])#Slicing with step size of 2."
   ]
  },
  {
   "cell_type": "code",
   "execution_count": 21,
   "id": "a443d3ce",
   "metadata": {},
   "outputs": [
    {
     "name": "stdout",
     "output_type": "stream",
     "text": [
      "[[ 1  2  3  4  5]\n",
      " [ 6  7  8  9 10]]\n"
     ]
    }
   ],
   "source": [
    "#two dimensional array slicing\n",
    "a=np.array([[1,2,3,4,5],[6,7,8,9,10]])\n",
    "print(a)    "
   ]
  },
  {
   "cell_type": "code",
   "execution_count": 22,
   "id": "5ac38096",
   "metadata": {},
   "outputs": [
    {
     "name": "stdout",
     "output_type": "stream",
     "text": [
      "[[2 3 4]\n",
      " [7 8 9]]\n"
     ]
    }
   ],
   "source": [
    "print(a[:,1:4]) #Slicing rows and columns from 2-D array. Here, : means all rows and 1:4 means columns from index 1 to 3."
   ]
  },
  {
   "cell_type": "code",
   "execution_count": 24,
   "id": "55018605",
   "metadata": {},
   "outputs": [
    {
     "name": "stdout",
     "output_type": "stream",
     "text": [
      "[[[ 1  2  3  4]\n",
      "  [ 5  6  7  8]]\n",
      "\n",
      " [[ 9 10 11 12]\n",
      "  [13 14 15 16]]]\n"
     ]
    }
   ],
   "source": [
    "#3D array slicing\n",
    "b=np.array([[[1,2,3,4],[5,6,7,8]],[[9,10,11,12],[13,14,15,16]]])\n",
    "print(b)"
   ]
  },
  {
   "cell_type": "code",
   "execution_count": 25,
   "id": "427297fc",
   "metadata": {},
   "outputs": [
    {
     "name": "stdout",
     "output_type": "stream",
     "text": [
      "[10 11]\n"
     ]
    }
   ],
   "source": [
    "#apply slicing with comments\n",
    "print(b[1,0,1:3]) #Slicing from 3-D array. Here, 1 is the index of 2-D array, 0 is the index of row and 1:3 means columns from index 1 to 2.    "
   ]
  },
  {
   "cell_type": "code",
   "execution_count": 26,
   "id": "50ee1f2b",
   "metadata": {},
   "outputs": [
    {
     "name": "stdout",
     "output_type": "stream",
     "text": [
      "[5 6 7 8]\n"
     ]
    }
   ],
   "source": [
    "print(b[0,1,:]) #Slicing from 3-D array. Here, 0 is the index of 2-D array, 1 is the index of row and : means all columns."
   ]
  },
  {
   "cell_type": "code",
   "execution_count": null,
   "id": "b3e47c82",
   "metadata": {},
   "outputs": [],
   "source": []
  }
 ],
 "metadata": {
  "kernelspec": {
   "display_name": "Python 3",
   "language": "python",
   "name": "python3"
  },
  "language_info": {
   "codemirror_mode": {
    "name": "ipython",
    "version": 3
   },
   "file_extension": ".py",
   "mimetype": "text/x-python",
   "name": "python",
   "nbconvert_exporter": "python",
   "pygments_lexer": "ipython3",
   "version": "3.10.9"
  }
 },
 "nbformat": 4,
 "nbformat_minor": 5
}
