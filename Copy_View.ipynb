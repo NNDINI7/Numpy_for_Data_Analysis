{
 "cells": [
  {
   "cell_type": "markdown",
   "id": "90b51117",
   "metadata": {},
   "source": [
    "Copy is used to copy "
   ]
  },
  {
   "cell_type": "code",
   "execution_count": 3,
   "id": "c2317b01",
   "metadata": {},
   "outputs": [
    {
     "name": "stdout",
     "output_type": "stream",
     "text": [
      "array [1 2 3 4 5]\n",
      "copy of array: [1 2 3 4 5]\n"
     ]
    }
   ],
   "source": [
    "import numpy as np\n",
    "arr = np.array([1, 2, 3, 4, 5])\n",
    "arr_copy = arr.copy()\n",
    "print(\"array\",arr)\n",
    "print(\"copy of array:\",arr_copy) #copy is used to copy the array\n",
    "# copy has its own data in memory\n",
    "#copy data in new array"
   ]
  },
  {
   "cell_type": "code",
   "execution_count": 5,
   "id": "0be079d5",
   "metadata": {},
   "outputs": [
    {
     "name": "stdout",
     "output_type": "stream",
     "text": [
      "after changing original array\n",
      "array [10  2  3  4  5]\n",
      "copy of array: [1 2 3 4 5]\n"
     ]
    }
   ],
   "source": [
    "#data is changed in original array not in copy array\n",
    "arr[0] = 10\n",
    "print(\"after changing original array\")\n",
    "print(\"array\",arr)\n",
    "print(\"copy of array:\",arr_copy)"
   ]
  },
  {
   "cell_type": "code",
   "execution_count": 4,
   "id": "6654598d",
   "metadata": {},
   "outputs": [
    {
     "name": "stdout",
     "output_type": "stream",
     "text": [
      "array [1 2 3 4 5]\n",
      "view of array: [1 2 3 4 5]\n"
     ]
    }
   ],
   "source": [
    "x = np.array([1, 2, 3, 4, 5])\n",
    "y = x.view()\n",
    "print(\"array\",x)\n",
    "print(\"view of array:\",y) #view is used to view the array\n",
    "# view shares the same data in memory"
   ]
  },
  {
   "cell_type": "code",
   "execution_count": 6,
   "id": "c59e1005",
   "metadata": {},
   "outputs": [
    {
     "name": "stdout",
     "output_type": "stream",
     "text": [
      "after changing original array\n",
      "array [20  2  3  4  5]\n",
      "view of array: [20  2  3  4  5]\n"
     ]
    }
   ],
   "source": [
    "#data is changed in original array and view array\n",
    "x[0] = 20   \n",
    "print(\"after changing original array\")\n",
    "print(\"array\",x)\n",
    "print(\"view of array:\",y)"
   ]
  },
  {
   "cell_type": "code",
   "execution_count": null,
   "id": "604a2c70",
   "metadata": {},
   "outputs": [],
   "source": []
  }
 ],
 "metadata": {
  "kernelspec": {
   "display_name": "Python 3",
   "language": "python",
   "name": "python3"
  },
  "language_info": {
   "codemirror_mode": {
    "name": "ipython",
    "version": 3
   },
   "file_extension": ".py",
   "mimetype": "text/x-python",
   "name": "python",
   "nbconvert_exporter": "python",
   "pygments_lexer": "ipython3",
   "version": "3.10.9"
  }
 },
 "nbformat": 4,
 "nbformat_minor": 5
}
