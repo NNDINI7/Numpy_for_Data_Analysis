{
 "cells": [
  {
   "cell_type": "markdown",
   "id": "1e1748c1",
   "metadata": {},
   "source": [
    "Array with filled 0"
   ]
  },
  {
   "cell_type": "markdown",
   "id": "597e6fa7",
   "metadata": {},
   "source": [
    "1 D array"
   ]
  },
  {
   "cell_type": "code",
   "execution_count": 1,
   "id": "2c8b9f2c",
   "metadata": {},
   "outputs": [
    {
     "name": "stdout",
     "output_type": "stream",
     "text": [
      "[0. 0. 0. 0.]\n"
     ]
    }
   ],
   "source": [
    "import numpy as np\n",
    "zero_arr=np.zeros(4)\n",
    "print(zero_arr)"
   ]
  },
  {
   "cell_type": "markdown",
   "id": "6683eb88",
   "metadata": {},
   "source": [
    "2 D array"
   ]
  },
  {
   "cell_type": "code",
   "execution_count": 3,
   "id": "5abbaa35",
   "metadata": {},
   "outputs": [
    {
     "name": "stdout",
     "output_type": "stream",
     "text": [
      "[[0. 0. 0. 0.]\n",
      " [0. 0. 0. 0.]\n",
      " [0. 0. 0. 0.]]\n"
     ]
    }
   ],
   "source": [
    "import numpy as np\n",
    "zero2d_arr=np.zeros((3,4))\n",
    "print(zero2d_arr)"
   ]
  },
  {
   "cell_type": "markdown",
   "id": "3108132e",
   "metadata": {},
   "source": [
    "ones filled array"
   ]
  },
  {
   "cell_type": "code",
   "execution_count": 5,
   "id": "9ab63846",
   "metadata": {},
   "outputs": [
    {
     "name": "stdout",
     "output_type": "stream",
     "text": [
      "[1. 1. 1.]\n"
     ]
    }
   ],
   "source": [
    "ar_ones=np.ones(3)\n",
    "print(ar_ones)"
   ]
  },
  {
   "cell_type": "markdown",
   "id": "6c09eebe",
   "metadata": {},
   "source": [
    "Empty array"
   ]
  },
  {
   "cell_type": "code",
   "execution_count": 6,
   "id": "b15ce6fd",
   "metadata": {},
   "outputs": [
    {
     "name": "stdout",
     "output_type": "stream",
     "text": [
      "[1. 1. 1.]\n"
     ]
    }
   ],
   "source": [
    "ar_em=np.empty(3)\n",
    "print(ar_em)\n"
   ]
  },
  {
   "cell_type": "markdown",
   "id": "c4d12809",
   "metadata": {},
   "source": [
    "Range array"
   ]
  },
  {
   "cell_type": "code",
   "execution_count": 8,
   "id": "e78594c8",
   "metadata": {},
   "outputs": [
    {
     "name": "stdout",
     "output_type": "stream",
     "text": [
      "[0 1 2 3 4 5 6 7 8 9]\n",
      "[3 4 5 6 7 8 9]\n",
      "[3 5 7 9]\n"
     ]
    }
   ],
   "source": [
    "arr_range=np.arange(10)\n",
    "arr_range2=np.arange(3,10)\n",
    "arr_range3=np.arange(3,10,2)\n",
    "print(arr_range)\n",
    "print(arr_range2)\n",
    "print(arr_range3)"
   ]
  },
  {
   "cell_type": "markdown",
   "id": "6eb5febf",
   "metadata": {},
   "source": [
    "Diagonal array"
   ]
  },
  {
   "cell_type": "code",
   "execution_count": 9,
   "id": "25eb7441",
   "metadata": {},
   "outputs": [
    {
     "name": "stdout",
     "output_type": "stream",
     "text": [
      "[[1. 0. 0.]\n",
      " [0. 1. 0.]\n",
      " [0. 0. 1.]]\n"
     ]
    }
   ],
   "source": [
    "ar_diag=np.eye(3)\n",
    "print(ar_diag)"
   ]
  },
  {
   "cell_type": "code",
   "execution_count": 11,
   "id": "e13d89c3",
   "metadata": {},
   "outputs": [
    {
     "name": "stdout",
     "output_type": "stream",
     "text": [
      "[[1. 0. 0. 0. 0.]\n",
      " [0. 1. 0. 0. 0.]\n",
      " [0. 0. 1. 0. 0.]]\n"
     ]
    }
   ],
   "source": [
    "ar_dia=np.eye(3,5)\n",
    "print(ar_dia)"
   ]
  },
  {
   "cell_type": "markdown",
   "id": "ee2a04fa",
   "metadata": {},
   "source": [
    "Linspace"
   ]
  },
  {
   "cell_type": "code",
   "execution_count": null,
   "id": "be8a84cc",
   "metadata": {},
   "outputs": [
    {
     "name": "stdout",
     "output_type": "stream",
     "text": [
      "[ 1.    3.25  5.5   7.75 10.  ]\n"
     ]
    }
   ],
   "source": [
    "ar_lin=np.linspace(1,10,5)#5 is no of elements\n",
    "print(ar_lin)"
   ]
  }
 ],
 "metadata": {
  "kernelspec": {
   "display_name": "Python 3",
   "language": "python",
   "name": "python3"
  },
  "language_info": {
   "codemirror_mode": {
    "name": "ipython",
    "version": 3
   },
   "file_extension": ".py",
   "mimetype": "text/x-python",
   "name": "python",
   "nbconvert_exporter": "python",
   "pygments_lexer": "ipython3",
   "version": "3.10.9"
  }
 },
 "nbformat": 4,
 "nbformat_minor": 5
}
