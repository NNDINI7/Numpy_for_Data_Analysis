{
 "cells": [
  {
   "cell_type": "markdown",
   "id": "2a2501e3",
   "metadata": {},
   "source": [
    "7 arithmatic operations add,sub,mul,div,mod,power,reciprocal"
   ]
  },
  {
   "cell_type": "markdown",
   "id": "a301cd48",
   "metadata": {},
   "source": [
    "1D array"
   ]
  },
  {
   "cell_type": "code",
   "execution_count": 1,
   "id": "6de5f31f",
   "metadata": {},
   "outputs": [
    {
     "name": "stdout",
     "output_type": "stream",
     "text": [
      "[4 5 6 7]\n"
     ]
    }
   ],
   "source": [
    "import numpy as np\n",
    "var = np.array([1,2,3,4])\n",
    "var_add= var+3\n",
    "print(var_add)"
   ]
  },
  {
   "cell_type": "code",
   "execution_count": 6,
   "id": "0bb74e8a",
   "metadata": {},
   "outputs": [
    {
     "name": "stdout",
     "output_type": "stream",
     "text": [
      "[-2 -1  0  1]\n"
     ]
    }
   ],
   "source": [
    "import numpy as np\n",
    "var = np.array([1,2,3,4])\n",
    "var_sub= var-3\n",
    "print(var_sub)"
   ]
  },
  {
   "cell_type": "code",
   "execution_count": 7,
   "id": "c4668810",
   "metadata": {},
   "outputs": [
    {
     "name": "stdout",
     "output_type": "stream",
     "text": [
      "[ 3  6  9 12]\n"
     ]
    }
   ],
   "source": [
    "import numpy as np\n",
    "var = np.array([1,2,3,4])\n",
    "var_mul= var*3\n",
    "print(var_mul)"
   ]
  },
  {
   "cell_type": "code",
   "execution_count": 8,
   "id": "bee9b8c2",
   "metadata": {},
   "outputs": [
    {
     "name": "stdout",
     "output_type": "stream",
     "text": [
      "[0.33333333 0.66666667 1.         1.33333333]\n"
     ]
    }
   ],
   "source": [
    "import numpy as np\n",
    "var = np.array([1,2,3,4])\n",
    "var_div= var/3\n",
    "print(var_div)"
   ]
  },
  {
   "cell_type": "code",
   "execution_count": 9,
   "id": "84c1041e",
   "metadata": {},
   "outputs": [
    {
     "name": "stdout",
     "output_type": "stream",
     "text": [
      "[1 2 0 1]\n"
     ]
    }
   ],
   "source": [
    "import numpy as np\n",
    "var = np.array([1,2,3,4])\n",
    "var_mod= var%3\n",
    "print(var_mod)"
   ]
  },
  {
   "cell_type": "code",
   "execution_count": 12,
   "id": "ef47d34b",
   "metadata": {},
   "outputs": [
    {
     "name": "stdout",
     "output_type": "stream",
     "text": [
      "[ 1  4  9 16]\n"
     ]
    }
   ],
   "source": [
    "var = np.array([1,2,3,4])\n",
    "power= var ** 2\n",
    "print(power)"
   ]
  },
  {
   "cell_type": "markdown",
   "id": "4467e6c8",
   "metadata": {},
   "source": [
    "2D array"
   ]
  },
  {
   "cell_type": "code",
   "execution_count": 2,
   "id": "b6894128",
   "metadata": {},
   "outputs": [
    {
     "name": "stdout",
     "output_type": "stream",
     "text": [
      "[ 6  8 10 12]\n"
     ]
    }
   ],
   "source": [
    "arr1 = np.array([1,2,3,4])\n",
    "arr2 = np.array([5,6,7,8])\n",
    "add = arr1 + arr2\n",
    "print(add)\n"
   ]
  },
  {
   "cell_type": "markdown",
   "id": "9c0f2ab1",
   "metadata": {},
   "source": [
    "another add method"
   ]
  },
  {
   "cell_type": "code",
   "execution_count": 10,
   "id": "2ddef893",
   "metadata": {},
   "outputs": [
    {
     "name": "stdout",
     "output_type": "stream",
     "text": [
      "[ 6  8 10 12]\n"
     ]
    }
   ],
   "source": [
    "arr1 = np.array([1,2,3,4])\n",
    "arr2 = np.array([5,6,7,8])\n",
    "add = np.add(arr1,arr2)\n",
    "print(add)"
   ]
  },
  {
   "cell_type": "code",
   "execution_count": 3,
   "id": "9dbba4cf",
   "metadata": {},
   "outputs": [
    {
     "name": "stdout",
     "output_type": "stream",
     "text": [
      "[-4 -4 -4 -4]\n"
     ]
    }
   ],
   "source": [
    "arr1 = np.array([1,2,3,4])\n",
    "arr2 = np.array([5,6,7,8])\n",
    "sub = arr1 - arr2\n",
    "print(sub)\n"
   ]
  },
  {
   "cell_type": "code",
   "execution_count": 4,
   "id": "d94f10dd",
   "metadata": {},
   "outputs": [
    {
     "name": "stdout",
     "output_type": "stream",
     "text": [
      "[ 5 12 21 32]\n"
     ]
    }
   ],
   "source": [
    "arr1 = np.array([1,2,3,4])\n",
    "arr2 = np.array([5,6,7,8])\n",
    "mul = arr1 * arr2\n",
    "print(mul)\n"
   ]
  },
  {
   "cell_type": "code",
   "execution_count": 5,
   "id": "98a15be3",
   "metadata": {},
   "outputs": [
    {
     "name": "stdout",
     "output_type": "stream",
     "text": [
      "[0.2        0.33333333 0.42857143 0.5       ]\n"
     ]
    }
   ],
   "source": [
    "arr1 = np.array([1,2,3,4])\n",
    "arr2 = np.array([5,6,7,8])\n",
    "div = arr1 / arr2\n",
    "print(div)\n"
   ]
  },
  {
   "cell_type": "code",
   "execution_count": 17,
   "id": "093aa71d",
   "metadata": {},
   "outputs": [
    {
     "name": "stdout",
     "output_type": "stream",
     "text": [
      "[[1 2 3 4]\n",
      " [1 2 3 4]]\n",
      "\n",
      "[[1 2 3 4]\n",
      " [1 2 3 4]]\n",
      "\n",
      "[[2 4 6 8]\n",
      " [2 4 6 8]]\n"
     ]
    }
   ],
   "source": [
    "arr12 = np.array([[1,2,3,4],[1,2,3,4]])\n",
    "arr22 = np.array([[1,2,3,4],[1,2,3,4]])\n",
    "print(arr12)\n",
    "print()\n",
    "print(arr22)\n",
    "print()\n",
    "add2= arr12 + arr22\n",
    "print(add2)\n"
   ]
  },
  {
   "cell_type": "code",
   "execution_count": 18,
   "id": "4b729678",
   "metadata": {},
   "outputs": [
    {
     "name": "stdout",
     "output_type": "stream",
     "text": [
      "[[1 2 3 4]\n",
      " [1 2 3 4]]\n",
      "\n",
      "[[1 2 3 4]\n",
      " [1 2 3 4]]\n",
      "\n",
      "[[ 1  4  9 16]\n",
      " [ 1  4  9 16]]\n"
     ]
    }
   ],
   "source": [
    "arr12 = np.array([[1,2,3,4],[1,2,3,4]])\n",
    "arr22 = np.array([[1,2,3,4],[1,2,3,4]])\n",
    "print(arr12)\n",
    "print()\n",
    "print(arr22)\n",
    "print()\n",
    "mul2= arr12 * arr22\n",
    "print(mul2)"
   ]
  }
 ],
 "metadata": {
  "kernelspec": {
   "display_name": "Python 3",
   "language": "python",
   "name": "python3"
  },
  "language_info": {
   "codemirror_mode": {
    "name": "ipython",
    "version": 3
   },
   "file_extension": ".py",
   "mimetype": "text/x-python",
   "name": "python",
   "nbconvert_exporter": "python",
   "pygments_lexer": "ipython3",
   "version": "3.10.9"
  }
 },
 "nbformat": 4,
 "nbformat_minor": 5
}
