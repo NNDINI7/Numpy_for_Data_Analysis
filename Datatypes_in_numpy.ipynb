{
 "cells": [
  {
   "cell_type": "markdown",
   "id": "2fd52eba",
   "metadata": {},
   "source": [
    "there are 19 datatypes : complex64, int_, intc,etc"
   ]
  },
  {
   "cell_type": "markdown",
   "id": "c96a88f1",
   "metadata": {},
   "source": []
  },
  {
   "cell_type": "code",
   "execution_count": 1,
   "id": "d40989d2",
   "metadata": {},
   "outputs": [
    {
     "name": "stdout",
     "output_type": "stream",
     "text": [
      "Data Type : int32\n"
     ]
    }
   ],
   "source": [
    "import numpy as np\n",
    "var = np.array([1,2,3])\n",
    "print(\"Data Type :\",var.dtype)"
   ]
  },
  {
   "cell_type": "code",
   "execution_count": 2,
   "id": "dd75c983",
   "metadata": {},
   "outputs": [
    {
     "name": "stdout",
     "output_type": "stream",
     "text": [
      "Data Type : float64\n"
     ]
    }
   ],
   "source": [
    "var = np.array([1.0,2.0,3.0])\n",
    "print(\"Data Type :\",var.dtype)"
   ]
  },
  {
   "cell_type": "code",
   "execution_count": 3,
   "id": "6f7caa72",
   "metadata": {},
   "outputs": [
    {
     "name": "stdout",
     "output_type": "stream",
     "text": [
      "Data Type : <U7\n"
     ]
    }
   ],
   "source": [
    "str = np.array(['Nandini','is','a','good'])\n",
    "print(\"Data Type :\",str.dtype)"
   ]
  },
  {
   "cell_type": "code",
   "execution_count": 4,
   "id": "0d28d078",
   "metadata": {},
   "outputs": [
    {
     "name": "stdout",
     "output_type": "stream",
     "text": [
      "Data Type : <U1\n"
     ]
    }
   ],
   "source": [
    "str2=np.array(['A','B','C','D'])\n",
    "print(\"Data Type :\",str2.dtype)"
   ]
  },
  {
   "cell_type": "code",
   "execution_count": 5,
   "id": "4a9d02eb",
   "metadata": {},
   "outputs": [
    {
     "name": "stdout",
     "output_type": "stream",
     "text": [
      "Data Type : <U11\n"
     ]
    }
   ],
   "source": [
    "var2 = np.array([1,2,3,'N','B','G'])\n",
    "print(\"Data Type :\",var2.dtype)"
   ]
  },
  {
   "cell_type": "markdown",
   "id": "10932fd1",
   "metadata": {},
   "source": [
    "to convert to other datatype"
   ]
  },
  {
   "cell_type": "code",
   "execution_count": 8,
   "id": "57b3cec5",
   "metadata": {},
   "outputs": [
    {
     "name": "stdout",
     "output_type": "stream",
     "text": [
      "Data Type: float32\n",
      "[1. 2. 3. 4. 5.]\n"
     ]
    }
   ],
   "source": [
    "x = np.array([1, 2, 3, 4, 5],dtype='f')\n",
    "print(\"Data Type:\",x.dtype)\n",
    "print(x)\n",
    "\n"
   ]
  },
  {
   "cell_type": "code",
   "execution_count": null,
   "id": "badeec65",
   "metadata": {},
   "outputs": [
    {
     "name": "stdout",
     "output_type": "stream",
     "text": [
      "Data Type: int32\n"
     ]
    }
   ],
   "source": [
    "x2=x.astype('i') #convert to integer \n",
    "print(\"Data Type:\",x2.dtype)"
   ]
  },
  {
   "cell_type": "code",
   "execution_count": null,
   "id": "6f6dfde0",
   "metadata": {},
   "outputs": [
    {
     "name": "stdout",
     "output_type": "stream",
     "text": [
      "Original Data Type: int32\n",
      "Data Type: float32\n",
      "[1 2 3 4 5]\n",
      "[1. 2. 3. 4. 5.]\n"
     ]
    }
   ],
   "source": [
    "x3 = np.array([1,2,3,4,5])\n",
    "new = np.float32(x3) #convert to float\n",
    "print(\"Original Data Type:\",x3.dtype)\n",
    "print(\"Data Type:\",new.dtype)\n",
    "print(x3)\n",
    "print(new)\n"
   ]
  },
  {
   "cell_type": "code",
   "execution_count": null,
   "id": "ccbe0194",
   "metadata": {},
   "outputs": [
    {
     "name": "stdout",
     "output_type": "stream",
     "text": [
      "Original Data Type: float64\n",
      "Data Type: int32\n",
      "[1.1 2.2 3.3 4.4 5.5]\n",
      "[1 2 3 4 5]\n"
     ]
    }
   ],
   "source": [
    "x4=np.array([1.1,2.2,3.3,4.4,5.5])\n",
    "new2 = np.int_(x4) #convert to integer\n",
    "print(\"Original Data Type:\",x4.dtype)\n",
    "print(\"Data Type:\",new2.dtype)\n",
    "print(x4)\n",
    "print(new2)"
   ]
  },
  {
   "cell_type": "code",
   "execution_count": null,
   "id": "96538eaf",
   "metadata": {},
   "outputs": [],
   "source": []
  }
 ],
 "metadata": {
  "kernelspec": {
   "display_name": "Python 3",
   "language": "python",
   "name": "python3"
  },
  "language_info": {
   "codemirror_mode": {
    "name": "ipython",
    "version": 3
   },
   "file_extension": ".py",
   "mimetype": "text/x-python",
   "name": "python",
   "nbconvert_exporter": "python",
   "pygments_lexer": "ipython3",
   "version": "3.10.9"
  }
 },
 "nbformat": 4,
 "nbformat_minor": 5
}
