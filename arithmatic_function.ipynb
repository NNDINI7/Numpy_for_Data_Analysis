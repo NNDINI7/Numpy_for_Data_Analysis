{
 "cells": [
  {
   "cell_type": "code",
   "execution_count": 2,
   "id": "ddff53d8",
   "metadata": {},
   "outputs": [
    {
     "name": "stdout",
     "output_type": "stream",
     "text": [
      "min:  1\n"
     ]
    }
   ],
   "source": [
    "import numpy as np\n",
    "arr = np.array([1,2,3,4,5])\n",
    "\n",
    "print(\"min: \",np.min(arr))"
   ]
  },
  {
   "cell_type": "code",
   "execution_count": 3,
   "id": "b00699ee",
   "metadata": {},
   "outputs": [
    {
     "name": "stdout",
     "output_type": "stream",
     "text": [
      "max:  5\n"
     ]
    }
   ],
   "source": [
    "arr = np.array([1,2,3,4,5])\n",
    "\n",
    "print(\"max: \",np.max(arr))"
   ]
  },
  {
   "cell_type": "code",
   "execution_count": 5,
   "id": "5be669fa",
   "metadata": {},
   "outputs": [
    {
     "name": "stdout",
     "output_type": "stream",
     "text": [
      "position of min :  2\n",
      "\n",
      "position of max :  1\n"
     ]
    }
   ],
   "source": [
    "arr = np.array([1,7,0,4,5])\n",
    "\n",
    "print(\"position of min : \",np.argmin(arr))\n",
    "print()\n",
    "print(\"position of max : \",np.argmax(arr))"
   ]
  },
  {
   "cell_type": "code",
   "execution_count": null,
   "id": "c288b5b6",
   "metadata": {},
   "outputs": [
    {
     "name": "stdout",
     "output_type": "stream",
     "text": [
      "[1 5]\n",
      "[2 1 3]\n"
     ]
    }
   ],
   "source": [
    "var1 = np.array([[2,1,3],[9,5,6]])\n",
    "print(np.min(var1,axis=1))#0 =col, 1= row\n",
    "print(np.min(var1,axis=0)) # find min from both arr"
   ]
  },
  {
   "cell_type": "code",
   "execution_count": 8,
   "id": "d1d6547e",
   "metadata": {},
   "outputs": [
    {
     "name": "stdout",
     "output_type": "stream",
     "text": [
      "[3 9]\n",
      "[9 5 6]\n"
     ]
    }
   ],
   "source": [
    "var1 = np.array([[2,1,3],[9,5,6]])\n",
    "print(np.max(var1,axis=1))#0 =col, 1= row\n",
    "print(np.max(var1,axis=0)) "
   ]
  },
  {
   "cell_type": "code",
   "execution_count": 9,
   "id": "8f1f3244",
   "metadata": {},
   "outputs": [
    {
     "name": "stdout",
     "output_type": "stream",
     "text": [
      "square root : [1.         1.41421356 1.73205081 2.         2.23606798]\n"
     ]
    }
   ],
   "source": [
    "arr = np.array([1,2,3,4,5])\n",
    "print(\"square root :\",np.sqrt(arr))"
   ]
  },
  {
   "cell_type": "code",
   "execution_count": 13,
   "id": "1fd9cbd5",
   "metadata": {},
   "outputs": [
    {
     "name": "stdout",
     "output_type": "stream",
     "text": [
      "sin: [0.84147098 0.90929743 0.14112001]\n",
      "cos: [ 0.54030231 -0.41614684 -0.9899925 ]\n",
      "\n",
      "cumsum: [1 3 6]\n"
     ]
    }
   ],
   "source": [
    "x = np.array([1,2,3])\n",
    "print(\"sin:\",np.sin(x))\n",
    "print(\"cos:\",np.cos(x))\n",
    "print()\n",
    "print(\"cumsum:\",np.cumsum(x))\n",
    "# it works like 1, 1+2 = 3 , 3+3=6\n",
    "\n"
   ]
  },
  {
   "cell_type": "code",
   "execution_count": null,
   "id": "f33f8d69",
   "metadata": {},
   "outputs": [],
   "source": []
  }
 ],
 "metadata": {
  "kernelspec": {
   "display_name": "Python 3",
   "language": "python",
   "name": "python3"
  },
  "language_info": {
   "codemirror_mode": {
    "name": "ipython",
    "version": 3
   },
   "file_extension": ".py",
   "mimetype": "text/x-python",
   "name": "python",
   "nbconvert_exporter": "python",
   "pygments_lexer": "ipython3",
   "version": "3.10.9"
  }
 },
 "nbformat": 4,
 "nbformat_minor": 5
}
