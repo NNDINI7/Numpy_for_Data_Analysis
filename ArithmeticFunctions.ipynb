{
 "cells": [
  {
   "cell_type": "markdown",
   "id": "612b3521",
   "metadata": {},
   "source": [
    "Shuffle"
   ]
  },
  {
   "cell_type": "code",
   "execution_count": 1,
   "id": "314ece21",
   "metadata": {},
   "outputs": [
    {
     "name": "stdout",
     "output_type": "stream",
     "text": [
      "[1 3 4 2 5]\n"
     ]
    }
   ],
   "source": [
    "import numpy as np\n",
    "arr = np.array([1, 2, 3, 4, 5])\n",
    "\n",
    "np.random.shuffle(arr)\n",
    "print(arr)"
   ]
  },
  {
   "cell_type": "markdown",
   "id": "8a456286",
   "metadata": {},
   "source": [
    "Unique"
   ]
  },
  {
   "cell_type": "code",
   "execution_count": 5,
   "id": "0abf19ab",
   "metadata": {},
   "outputs": [
    {
     "name": "stdout",
     "output_type": "stream",
     "text": [
      "Original array 2: [ 6  7  8  9 10  3  4  5  6  7  8  9 10  2  3  4  4  6]\n",
      "Unique values of arr2: [ 2  3  4  5  6  7  8  9 10]\n"
     ]
    }
   ],
   "source": [
    "arr2 = np.array([6, 7, 8, 9, 10,3,4,5,6,7,8,9,10,2,3,4,4,6])\n",
    "print(\"Original array 2:\", arr2)\n",
    "y = np.unique(arr2)\n",
    "print(\"Unique values of arr2:\", y)"
   ]
  },
  {
   "cell_type": "code",
   "execution_count": 6,
   "id": "4f58c9a5",
   "metadata": {},
   "outputs": [
    {
     "name": "stdout",
     "output_type": "stream",
     "text": [
      "(array([ 2,  3,  4,  5,  6,  7,  8,  9, 10]), array([13,  5,  6,  7,  0,  1,  2,  3,  4], dtype=int64), array([4, 5, 6, 7, 8, 1, 2, 3, 4, 5, 6, 7, 8, 0, 1, 2, 2, 4], dtype=int64), array([1, 2, 3, 1, 3, 2, 2, 2, 2], dtype=int64))\n"
     ]
    }
   ],
   "source": [
    "z = np.unique(arr2, return_index=True, return_counts=True, return_inverse=True)\n",
    "print(z)\n",
    "#return_counts: returns the number of times each unique item appears in the original array.\n",
    "#return_index: returns the indices of the first occurrences of the unique values in the original array\n",
    "#return_inverse: returns the indices to reconstruct the original array from the unique array.\n"
   ]
  },
  {
   "cell_type": "markdown",
   "id": "9ecbd9dd",
   "metadata": {},
   "source": [
    "Resize"
   ]
  },
  {
   "cell_type": "code",
   "execution_count": 7,
   "id": "122e250c",
   "metadata": {},
   "outputs": [
    {
     "name": "stdout",
     "output_type": "stream",
     "text": [
      "Original array 2: [ 6  7  8  9 10]\n",
      "Resized array: [[ 6  7  8  9]\n",
      " [10  6  7  8]\n",
      " [ 9 10  6  7]]\n"
     ]
    }
   ],
   "source": [
    "arr2 = np.array([6, 7, 8, 9, 10])\n",
    "print(\"Original array 2:\", arr2)\n",
    "i = np.resize(arr2, (3,4))\n",
    "print(\"Resized array:\", i)"
   ]
  },
  {
   "cell_type": "markdown",
   "id": "f266ba4c",
   "metadata": {},
   "source": [
    "Flatten"
   ]
  },
  {
   "cell_type": "markdown",
   "id": "a999975c",
   "metadata": {},
   "source": [
    " orders in flatten : \n",
    " 'C' means to flatten in row-major (C-style) order. \n",
    " 'F' means to flatten in column-major (Fortran-style) order.\n",
    "'A' means to flatten in column-major order if the array is Fortran contiguous in memory, row-major order otherwise.\n",
    "'K' means to flatten the array in the order the elements occur in memory. The default is 'C'. "
   ]
  },
  {
   "cell_type": "code",
   "execution_count": 11,
   "id": "83c05c34",
   "metadata": {},
   "outputs": [
    {
     "name": "stdout",
     "output_type": "stream",
     "text": [
      "[1 4 2 5 3 6]\n",
      "[1 2 3 4 5 6]\n",
      "[1 2 3 4 5 6]\n",
      "[1 2 3 4 5 6]\n"
     ]
    }
   ],
   "source": [
    "r = np.array([[1, 2, 3], [4, 5, 6]])\n",
    "f = r.flatten(order='F')\n",
    "print(f)\n",
    "# orders in flatten :\n",
    "c = r.flatten(order='C')\n",
    "print(c)\n",
    "a = r.flatten(order='A')\n",
    "print(a)\n",
    "k = r.flatten(order='K')\n",
    "print(k)"
   ]
  },
  {
   "cell_type": "code",
   "execution_count": null,
   "id": "ecb15d03",
   "metadata": {},
   "outputs": [
    {
     "name": "stdout",
     "output_type": "stream",
     "text": [
      "[1 4 2 5 3 6]\n"
     ]
    }
   ],
   "source": [
    "# ravel is used to create a flattened array. It returns a flattened one-dimensional array and is a method of ndarray class.\n",
    "# The difference between flatten and ravel is that flatten always returns a copy of the original array, while ravel returns a flattened array as a view of the original array whenever possible.\n",
    "# orders in ravel :\n",
    "o = np.array([[1, 2, 3], [4, 5, 6]])\n",
    "v = o.ravel(order='F')\n",
    "print(v)"
   ]
  }
 ],
 "metadata": {
  "kernelspec": {
   "display_name": "Python 3",
   "language": "python",
   "name": "python3"
  },
  "language_info": {
   "codemirror_mode": {
    "name": "ipython",
    "version": 3
   },
   "file_extension": ".py",
   "mimetype": "text/x-python",
   "name": "python",
   "nbconvert_exporter": "python",
   "pygments_lexer": "ipython3",
   "version": "3.10.9"
  }
 },
 "nbformat": 4,
 "nbformat_minor": 5
}
