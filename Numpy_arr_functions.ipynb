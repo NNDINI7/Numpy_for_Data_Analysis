{
 "cells": [
  {
   "cell_type": "markdown",
   "id": "57ee07cb",
   "metadata": {},
   "source": [
    "Searching array for a certain value "
   ]
  },
  {
   "cell_type": "code",
   "execution_count": 5,
   "id": "bc78f0d9",
   "metadata": {},
   "outputs": [
    {
     "name": "stdout",
     "output_type": "stream",
     "text": [
      "Original array: [ 1  2  3  4  5  2  5  7  3  8 10  3  4  8]\n",
      "(array([ 2,  8, 11], dtype=int64),)\n",
      "\n",
      "(array([ 1,  3,  5,  9, 10, 12, 13], dtype=int64),)\n"
     ]
    }
   ],
   "source": [
    "import numpy as np\n",
    "arr1 = np.array([1, 2, 3, 4, 5,2,5,7,3,8,10,3,4,8])\n",
    "print(\"Original array:\", arr1)\n",
    "x = np.where(arr1 == 3)\n",
    "print(x)\n",
    "print()\n",
    "x2= np.where(arr1 % 2 == 0)\n",
    "print(x2)"
   ]
  },
  {
   "cell_type": "markdown",
   "id": "9bab4ca8",
   "metadata": {},
   "source": [
    "Search sorted array"
   ]
  },
  {
   "cell_type": "markdown",
   "id": "f1b78e2f",
   "metadata": {},
   "source": [
    "gives u position to place value in sorted form"
   ]
  },
  {
   "cell_type": "code",
   "execution_count": 7,
   "id": "eeca5d0f",
   "metadata": {},
   "outputs": [
    {
     "name": "stdout",
     "output_type": "stream",
     "text": [
      "Original array 2: [ 6  7  9  9 10]\n",
      "2\n"
     ]
    }
   ],
   "source": [
    "arr2 = np.array([6, 7, 9, 9, 10])\n",
    "print(\"Original array 2:\", arr2)\n",
    "y = np.searchsorted(arr2,8 )\n",
    "print(y)"
   ]
  },
  {
   "cell_type": "code",
   "execution_count": 12,
   "metadata": {},
   "outputs": [
    {
     "name": "stdout",
     "output_type": "stream",
     "text": [
      "original arr: [ 6  7  9  9 10]\n",
      "\n",
      "[2 0 2 1]\n"
     ]
    }
   ],
   "source": [
    "y2 = np.searchsorted(arr2,[8,4,7,6],'right' )\n",
    "print(\"original arr:\",arr2)\n",
    "print()\n",
    "print(y2)\n",
    "#side is used to decide if value is to be inserted before or after the rightmost value\n",
    "# gives u position to place value in sorted form\n"
   ]
  },
  {
   "cell_type": "markdown",
   "id": "6e1915b6",
   "metadata": {},
   "source": [
    "Sort array to make array asc"
   ]
  },
  {
   "cell_type": "code",
   "execution_count": 13,
   "id": "75cfc27c",
   "metadata": {},
   "outputs": [
    {
     "name": "stdout",
     "output_type": "stream",
     "text": [
      "original arr3: [3 2 0 1]\n",
      "sorted arr3: [0 1 2 3]\n"
     ]
    }
   ],
   "source": [
    "arr3 = np.array([3, 2, 0, 1])\n",
    "print(\"original arr3:\",arr3)\n",
    "arr3.sort()\n",
    "print(\"sorted arr3:\",arr3)"
   ]
  },
  {
   "cell_type": "code",
   "execution_count": 14,
   "id": "4ffb4a16",
   "metadata": {},
   "outputs": [
    {
     "name": "stdout",
     "output_type": "stream",
     "text": [
      "original str arr: ['s' 'a' 'n' 'd' 'i' 'n' 'i']\n",
      "sorted str arr: ['a' 'd' 'i' 'i' 'n' 'n' 's']\n"
     ]
    }
   ],
   "source": [
    "str = np.array(['s','a','n','d','i','n','i'])\n",
    "print(\"original str arr:\",str)\n",
    "str.sort()\n",
    "print(\"sorted str arr:\",str)\n"
   ]
  },
  {
   "cell_type": "code",
   "execution_count": 17,
   "id": "bc87ff56",
   "metadata": {},
   "outputs": [
    {
     "name": "stdout",
     "output_type": "stream",
     "text": [
      "original 2d arr: [[3 2 4]\n",
      " [5 0 1]]\n",
      "sorted 2d arr : [[2 3 4]\n",
      " [0 1 5]]\n"
     ]
    }
   ],
   "source": [
    "arr_2d = np.array([[3, 2, 4], [5, 0, 1]])\n",
    "print(\"original 2d arr:\",arr_2d)\n",
    "arr_2d.sort()\n",
    "print(\"sorted 2d arr :\",arr_2d)"
   ]
  },
  {
   "cell_type": "markdown",
   "id": "1a7cab56",
   "metadata": {},
   "source": [
    "Filter : get some val from existing arr and create new arr"
   ]
  },
  {
   "cell_type": "code",
   "execution_count": 20,
   "id": "e0be80c9",
   "metadata": {},
   "outputs": [
    {
     "name": "stdout",
     "output_type": "stream",
     "text": [
      "original arr b: [41 42 43 44]\n",
      "new arr: [41 43]\n",
      "<class 'numpy.ndarray'>\n"
     ]
    }
   ],
   "source": [
    "b = np.array([41, 42, 43, 44])\n",
    "filter_arr = np.array([True, False, True, False])\n",
    "print(\"original arr b:\",b)\n",
    "newarr = b[filter_arr]\n",
    "print(\"new arr:\",newarr)\n",
    "print(type(newarr))"
   ]
  }
 ],
 "metadata": {
  "kernelspec": {
   "display_name": "Python 3",
   "language": "python",
   "name": "python3"
  },
  "language_info": {
   "codemirror_mode": {
    "name": "ipython",
    "version": 3
   },
   "file_extension": ".py",
   "mimetype": "text/x-python",
   "name": "python",
   "nbconvert_exporter": "python",
   "pygments_lexer": "ipython3",
   "version": "3.10.9"
  }
 },
 "nbformat": 4,
 "nbformat_minor": 5
}
